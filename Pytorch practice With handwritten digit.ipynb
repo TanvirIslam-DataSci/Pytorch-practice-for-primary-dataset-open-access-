{
 "cells": [
  {
   "cell_type": "markdown",
   "metadata": {},
   "source": [
    "# For single neural\n"
   ]
  },
  {
   "cell_type": "code",
   "execution_count": 1,
   "metadata": {},
   "outputs": [],
   "source": [
    "import torch"
   ]
  },
  {
   "cell_type": "code",
   "execution_count": 2,
   "metadata": {},
   "outputs": [],
   "source": [
    "def activation(x):\n",
    "    return 1/(1+torch.exp(-x))"
   ]
  },
  {
   "cell_type": "code",
   "execution_count": 3,
   "metadata": {},
   "outputs": [],
   "source": [
    "torch.manual_seed(7)\n",
    "\n",
    "features = torch.randn((1,5))\n",
    "\n",
    "weights = torch.randn_like(features)\n",
    "\n",
    "bias = torch.randn((1,1))"
   ]
  },
  {
   "cell_type": "code",
   "execution_count": 4,
   "metadata": {},
   "outputs": [
    {
     "data": {
      "text/plain": [
       "torch.Size([1, 5])"
      ]
     },
     "execution_count": 4,
     "metadata": {},
     "output_type": "execute_result"
    }
   ],
   "source": [
    "features.shape"
   ]
  },
  {
   "cell_type": "code",
   "execution_count": 5,
   "metadata": {},
   "outputs": [
    {
     "data": {
      "text/plain": [
       "torch.Size([1, 5])"
      ]
     },
     "execution_count": 5,
     "metadata": {},
     "output_type": "execute_result"
    }
   ],
   "source": [
    "weights.shape"
   ]
  },
  {
   "cell_type": "code",
   "execution_count": 6,
   "metadata": {},
   "outputs": [],
   "source": [
    "y = torch.sum(features*weights)+bias"
   ]
  },
  {
   "cell_type": "code",
   "execution_count": 7,
   "metadata": {},
   "outputs": [],
   "source": [
    "y_predict = activation(y)"
   ]
  },
  {
   "cell_type": "code",
   "execution_count": 8,
   "metadata": {},
   "outputs": [
    {
     "data": {
      "text/plain": [
       "tensor([[0.1595]])"
      ]
     },
     "execution_count": 8,
     "metadata": {},
     "output_type": "execute_result"
    }
   ],
   "source": [
    "y_predict"
   ]
  },
  {
   "cell_type": "code",
   "execution_count": 9,
   "metadata": {},
   "outputs": [
    {
     "data": {
      "text/plain": [
       "tensor([[0.1595]])"
      ]
     },
     "execution_count": 9,
     "metadata": {},
     "output_type": "execute_result"
    }
   ],
   "source": [
    "y= activation(torch.matmul(features, weights.view(5,1))+bias)\n",
    "y"
   ]
  },
  {
   "cell_type": "markdown",
   "metadata": {},
   "source": [
    "# for two layer\n"
   ]
  },
  {
   "cell_type": "code",
   "execution_count": 10,
   "metadata": {},
   "outputs": [],
   "source": [
    "torch.manual_seed(7)\n",
    "\n",
    "features = torch.randn((1,3))    #three input\n",
    "\n",
    "\n",
    "#size of the neural network\n",
    "\n",
    "n_input = features.shape[1]\n",
    "n_hidden = 2\n",
    "n_output =1\n",
    "\n",
    "W1 = torch.randn(n_input, n_hidden)\n",
    "W2 = torch.randn(n_hidden, n_output)\n",
    "\n",
    "B1 = torch.randn((1,n_hidden))\n",
    "B2 = torch.randn((1,n_output))\n",
    "\n"
   ]
  },
  {
   "cell_type": "code",
   "execution_count": 11,
   "metadata": {},
   "outputs": [
    {
     "data": {
      "text/plain": [
       "3"
      ]
     },
     "execution_count": 11,
     "metadata": {},
     "output_type": "execute_result"
    }
   ],
   "source": [
    "n_input"
   ]
  },
  {
   "cell_type": "code",
   "execution_count": 12,
   "metadata": {},
   "outputs": [
    {
     "data": {
      "text/plain": [
       "tensor([[0.3171]])"
      ]
     },
     "execution_count": 12,
     "metadata": {},
     "output_type": "execute_result"
    }
   ],
   "source": [
    "h = activation(torch.mm(features,W1)+B1)\n",
    "output = activation(torch.mm(h, W2)+B2)\n",
    "output"
   ]
  },
  {
   "cell_type": "markdown",
   "metadata": {},
   "source": [
    "# Neural network for MNIST dataset\n"
   ]
  },
  {
   "cell_type": "code",
   "execution_count": 13,
   "metadata": {},
   "outputs": [],
   "source": [
    "%matplotlib inline\n",
    "%config InlineBackend.figure_format = 'retina'\n",
    "\n",
    "import numpy as np\n",
    "import torch\n",
    "\n",
    "\n",
    "import matplotlib.pyplot as plt"
   ]
  },
  {
   "cell_type": "code",
   "execution_count": 14,
   "metadata": {},
   "outputs": [],
   "source": [
    "from six.moves import urllib\n",
    "opener = urllib.request.build_opener()\n",
    "opener.addheaders = [('User-agent', 'Mozilla/5.0')]\n",
    "urllib.request.install_opener(opener)"
   ]
  },
  {
   "cell_type": "code",
   "execution_count": 15,
   "metadata": {},
   "outputs": [
    {
     "name": "stderr",
     "output_type": "stream",
     "text": [
      "C:\\Users\\tanvi\\anaconda3\\lib\\site-packages\\torchvision\\datasets\\mnist.py:498: UserWarning: The given NumPy array is not writeable, and PyTorch does not support non-writeable tensors. This means you can write to the underlying (supposedly non-writeable) NumPy array using the tensor. You may want to copy the array to protect its data or make it writeable before converting it to a tensor. This type of warning will be suppressed for the rest of this program. (Triggered internally at  ..\\torch\\csrc\\utils\\tensor_numpy.cpp:180.)\n",
      "  return torch.from_numpy(parsed.astype(m[2], copy=False)).view(*s)\n"
     ]
    }
   ],
   "source": [
    "from torchvision import datasets, transforms\n",
    "\n",
    "# Define a transform to normalize the data\n",
    "transform = transforms.Compose([transforms.ToTensor(),\n",
    "                              transforms.Normalize((0.5,), (0.5,)),\n",
    "                              ])\n",
    "\n",
    "# Download and load the training data\n",
    "trainset = datasets.MNIST('~/.pytorch/MNIST_data/', download=True, train=True, transform=transform)\n",
    "trainloader = torch.utils.data.DataLoader(trainset, batch_size=64, shuffle=True)"
   ]
  },
  {
   "cell_type": "code",
   "execution_count": 16,
   "metadata": {},
   "outputs": [
    {
     "name": "stdout",
     "output_type": "stream",
     "text": [
      "<class 'torch.Tensor'>\n",
      "torch.Size([64, 1, 28, 28])\n",
      "torch.Size([64])\n"
     ]
    }
   ],
   "source": [
    "dataiter = iter(trainloader)\n",
    "images, labels = dataiter.next()\n",
    "print(type(images))\n",
    "print(images.shape)\n",
    "print(labels.shape)"
   ]
  },
  {
   "cell_type": "code",
   "execution_count": 17,
   "metadata": {},
   "outputs": [
    {
     "data": {
      "image/png": "[encoded data removed]",
      "text/plain": [
       "<Figure size 432x288 with 1 Axes>"
      ]
     },
     "metadata": {
      "image/png": {
       "height": 248,
       "width": 251
      },
      "needs_background": "light"
     },
     "output_type": "display_data"
    }
   ],
   "source": [
    "plt.imshow(images[1].numpy().squeeze(), cmap='Greys_r');"
   ]
  },
  {
   "cell_type": "code",
   "execution_count": 18,
   "metadata": {},
   "outputs": [],
   "source": [
    "def activation(x):\n",
    "    return 1/(1+torch.exp(-x))\n",
    "\n",
    "inputs = images.view(images.shape[0], -1)\n",
    "\n",
    "w1 = torch.randn(784,256)\n",
    "b1 = torch.randn(256)\n",
    "\n",
    "w2 = torch.randn(256,10)\n",
    "b2 = torch.randn(10)\n",
    "\n",
    "h = activation(torch.mm(inputs,w1)+b1)\n",
    "out = torch.mm(h,w2)+b2"
   ]
  },
  {
   "cell_type": "code",
   "execution_count": 19,
   "metadata": {},
   "outputs": [
    {
     "name": "stdout",
     "output_type": "stream",
     "text": [
      "tensor([[-7.9890e+00, -1.1939e+01, -1.0578e+01, -1.0542e+00, -1.0210e+01,\n",
      "          9.8305e+00, -7.7808e+00,  7.9509e+00, -1.7184e+00, -2.1894e+01],\n",
      "        [-2.4237e+00, -9.1932e+00, -1.0821e+01, -6.6993e+00, -1.4961e+01,\n",
      "          8.5739e+00, -6.8169e+00, -7.2353e+00,  5.5436e+00, -5.2401e+00],\n",
      "        [-3.8356e+00, -1.6007e+01, -1.1797e+01, -9.1650e+00, -7.2636e+00,\n",
      "          9.8336e+00, -5.1960e+00, -6.7520e+00, -2.2599e+00, -2.6790e+00],\n",
      "        [-8.5469e+00, -6.0329e+00, -1.2541e+01,  5.1122e-01, -1.5591e+01,\n",
      "          8.0434e+00,  2.0398e+00, -4.7205e+00,  2.7735e+00, -1.3874e+01],\n",
      "        [ 1.4452e+00, -1.7440e+01, -1.5071e+01, -1.4489e+01, -1.4442e+01,\n",
      "          8.8021e+00, -4.8359e+00, -1.2470e+01,  1.1011e+00, -3.2277e+00],\n",
      "        [ 8.0568e-01, -1.2427e+01, -1.3655e+01, -1.3899e+01, -1.1145e+01,\n",
      "          4.5540e+00, -8.6186e-01, -2.8966e+00,  3.5538e+00, -1.2926e+01],\n",
      "        [-5.8252e+00,  2.4327e+00, -7.0337e+00, -5.9457e+00, -1.7335e+01,\n",
      "          1.4394e+01,  7.0891e+00, -2.4203e+00,  9.9443e+00, -1.6994e+01],\n",
      "        [-6.8333e+00, -1.4545e+00, -6.2659e+00, -7.3377e+00, -6.5368e+00,\n",
      "          1.2132e+01,  1.1694e+01,  1.7241e+01, -4.7301e+00, -1.0161e+01],\n",
      "        [-3.3213e+00, -8.0269e+00, -1.5181e+01,  1.6231e-02, -1.4299e+01,\n",
      "         -4.6387e+00,  2.2401e+00, -2.2666e+00,  2.5446e+00, -1.2576e+01],\n",
      "        [-6.8247e+00, -9.1903e+00, -5.1821e+00, -9.6202e+00, -1.1749e+01,\n",
      "          1.1655e+01, -7.1587e+00, -4.4425e+00,  2.3544e+00, -2.7232e+00],\n",
      "        [-2.3699e+00, -4.6731e+00, -4.5373e+00, -5.9509e+00, -1.4060e+01,\n",
      "          8.1226e+00, -4.3928e+00,  6.2973e+00, -6.1016e+00, -1.4848e+01],\n",
      "        [-3.7933e+00, -1.3801e+01, -1.0067e+01, -1.3032e+01, -2.5535e+01,\n",
      "          1.2170e+01, -1.3780e+00,  7.7754e+00, -6.2456e+00, -1.2276e+01],\n",
      "        [-7.4994e+00, -1.0921e+01, -2.6120e+01, -1.0290e+01, -1.0656e+01,\n",
      "          4.5400e+00,  2.9380e+00,  5.1523e+00,  4.6764e+00, -1.2790e+01],\n",
      "        [-9.5185e+00, -9.7044e+00, -1.8388e+01, -5.3083e+00, -1.1350e+01,\n",
      "          2.0954e+01,  8.1109e+00,  8.2781e+00, -4.3988e+00, -1.5624e+01],\n",
      "        [-2.6765e-01, -1.4746e+01, -2.2199e+01, -4.9936e+00, -4.8888e+00,\n",
      "          1.9391e+01,  3.8501e+00,  7.4646e+00, -5.3990e+00, -7.2940e+00],\n",
      "        [-3.9871e+00, -6.8933e+00, -1.5666e+01, -7.0863e+00, -1.4019e+01,\n",
      "          1.0652e+01,  5.5119e+00,  7.5710e+00,  7.4869e+00, -2.6887e+00],\n",
      "        [ 7.1286e+00, -1.4488e+01, -1.7376e+01, -4.2647e+00, -1.2310e+01,\n",
      "          1.7281e+01, -7.1458e+00,  1.7498e+01, -1.0508e+01, -1.5363e+01],\n",
      "        [ 1.9884e+00, -5.1818e+00, -1.4059e+01, -1.6549e+01, -4.6414e+00,\n",
      "          1.1808e+01,  1.6624e+00,  1.6894e+00,  2.2705e+00, -7.8608e+00],\n",
      "        [-7.7589e+00, -7.0553e+00, -1.3187e+01, -1.0495e+01,  2.5549e+00,\n",
      "          1.7700e+00, -6.3412e+00, -9.4332e-01,  3.0741e+00, -1.3622e+01],\n",
      "        [-8.7026e-01, -1.1324e+01, -4.0326e+00, -5.9203e+00, -2.9316e+00,\n",
      "         -3.1249e+00,  8.9336e+00,  4.7951e+00,  1.0780e+01,  1.3766e+00],\n",
      "        [-6.8807e+00, -1.3565e+01, -6.0354e+00, -1.4175e+01, -1.4586e+01,\n",
      "          1.3840e+01, -4.8984e+00, -2.0522e+00, -2.4656e+00, -1.4295e+01],\n",
      "        [-8.6447e+00, -7.0564e+00, -1.0455e+01,  1.4443e+00, -7.8130e+00,\n",
      "          1.3108e+01, -6.8664e+00, -5.0908e+00, -3.7415e-01, -6.4722e+00],\n",
      "        [-2.0358e+00, -5.8099e+00, -1.1053e+01, -4.4142e+00, -1.1768e+01,\n",
      "          6.3315e+00, -6.5442e+00, -1.5992e+00, -7.1579e+00, -1.1113e+01],\n",
      "        [ 3.4812e+00, -1.1345e+01, -9.8921e+00, -6.2729e+00, -1.5357e+01,\n",
      "          1.2687e+01, -1.4806e+00,  3.6713e+00,  4.2429e+00, -9.8539e+00],\n",
      "        [-1.0071e+01, -1.0413e+01, -1.4401e+01,  6.3529e+00, -1.0340e+01,\n",
      "          1.6082e+01,  6.0892e+00,  9.6962e-01, -5.7839e+00, -2.2529e+01],\n",
      "        [-6.6618e+00, -8.8852e+00, -8.8970e+00, -7.3129e+00, -5.9216e+00,\n",
      "          2.0317e+00, -2.2500e-01, -1.9329e+00,  5.8598e+00, -7.2342e+00],\n",
      "        [-1.1446e+00, -1.0047e+01, -1.4595e+01, -7.5002e+00, -1.5131e+01,\n",
      "          1.5556e+01, -1.3981e+00, -4.1691e+00,  5.6661e+00, -1.7889e+01],\n",
      "        [-4.1356e+00, -8.5648e+00, -4.3790e+00, -3.4239e+00, -6.8884e+00,\n",
      "          1.0276e+01, -2.5063e+00,  2.8714e+00, -4.9810e+00, -5.8173e+00],\n",
      "        [-9.8029e+00, -1.1646e+01, -1.9785e+01, -6.9244e+00, -1.2452e+01,\n",
      "          4.5296e+00, -2.5953e+00, -1.2861e+01, -4.1958e+00, -3.4615e+00],\n",
      "        [-4.3063e+00, -1.1573e+01, -1.2965e+01, -1.0582e+01, -1.3596e+01,\n",
      "          5.2772e+00, -2.0894e+00,  3.5211e+00,  6.2833e+00, -4.8170e+00],\n",
      "        [-2.1752e+00, -1.1126e+01, -3.7760e+00, -5.3087e+00, -9.2667e+00,\n",
      "          1.4701e+01, -3.3002e+00,  2.4445e+00,  4.4427e+00,  2.5187e+00],\n",
      "        [-5.4064e+00, -6.0346e+00, -7.9270e+00, -1.1021e+01, -1.0183e+01,\n",
      "          4.4842e+00, -1.1136e+00,  2.3285e+00,  5.9347e+00, -1.6043e+00],\n",
      "        [-9.9090e+00, -9.3759e+00, -1.5483e+01, -7.4469e+00, -1.8907e+01,\n",
      "          2.6809e+00,  1.0853e+01, -5.7398e+00, -1.0861e-01, -1.8405e+01],\n",
      "        [ 5.6627e+00, -1.1099e+01, -1.0311e+01, -3.6266e+00, -9.8541e+00,\n",
      "          2.8233e+00, -2.7159e-01, -1.7037e+00, -1.3201e+01, -1.4482e+01],\n",
      "        [-1.7391e+00, -1.0826e+01, -1.0237e+01, -1.2902e+01, -1.3578e+01,\n",
      "          1.7225e+01, -2.9761e+00, -8.4878e+00,  1.7323e+00, -3.2967e+00],\n",
      "        [-7.3018e+00, -8.2514e+00, -1.3840e+01, -8.0957e+00, -1.5423e+01,\n",
      "          6.1560e-01,  3.6625e+00,  4.4847e+00, -1.1805e+00, -1.4851e+01],\n",
      "        [-3.7371e+00, -1.0748e+01, -1.6361e+01, -8.3547e+00, -1.8566e+00,\n",
      "          5.4700e+00, -5.5794e+00,  8.7318e+00,  3.3066e+00, -5.8362e+00],\n",
      "        [-4.0694e+00, -1.3531e+01, -4.1569e+00, -7.2042e+00, -1.0233e+01,\n",
      "          7.8099e+00,  2.1910e+00, -8.8843e+00,  9.6396e+00, -3.1446e+00],\n",
      "        [-8.5346e+00, -1.5495e+01, -2.5527e+00, -1.1033e+01, -1.5049e+01,\n",
      "          6.8809e+00,  2.0507e+00, -9.2608e+00,  9.7122e+00, -5.5988e+00],\n",
      "        [-7.5540e+00, -1.0804e+01, -2.0330e+00, -1.3356e+01, -4.2253e+00,\n",
      "          9.5737e+00, -3.7670e+00,  6.4284e+00,  2.9912e+00, -7.5868e+00],\n",
      "        [-5.7708e+00, -9.9116e+00, -3.7020e+00, -8.4769e+00, -1.3318e+01,\n",
      "          8.7620e+00, -3.5365e-01,  3.3482e+00,  9.5240e+00, -2.8547e+00],\n",
      "        [-1.3540e-01, -4.9938e+00, -1.6454e+01, -1.3638e+01, -1.2008e+01,\n",
      "          9.2562e-01,  4.8018e+00, -7.4248e+00,  3.3822e+00, -8.6284e+00],\n",
      "        [-7.7730e+00, -1.1747e+01, -4.0633e+00, -7.8449e+00,  1.7030e+00,\n",
      "          1.1347e+01,  8.6317e+00,  6.1482e+00, -1.1649e+00, -1.2415e+01],\n",
      "        [-4.8584e+00, -2.8256e+00, -1.7809e+01, -5.6166e+00, -2.9150e+00,\n",
      "          7.4138e+00, -5.7138e+00,  3.8863e+00, -5.7656e+00, -3.0839e+00],\n",
      "        [-1.0836e+01, -8.0921e+00, -1.0366e+01, -1.3719e+01, -8.6038e+00,\n",
      "          5.8811e+00,  1.2527e+01,  2.2150e+00,  6.7336e+00, -1.5134e+01],\n",
      "        [-5.3048e+00, -1.4011e+01, -1.5954e+01, -1.3914e+01, -6.9987e+00,\n",
      "          5.0781e+00, -6.6599e+00,  5.6442e+00, -5.2084e+00, -1.2779e+01],\n",
      "        [-2.2613e+00, -9.7659e+00,  1.6411e+00,  5.0649e-01, -8.6500e+00,\n",
      "          6.6675e+00, -1.1435e-01, -2.7930e+00,  3.0007e+00, -1.3882e+01],\n",
      "        [-7.1749e+00, -1.0996e+01, -8.2936e+00, -8.7265e+00, -1.4986e+01,\n",
      "          9.2454e+00, -3.4047e+00, -6.4193e+00, -4.9815e-02, -8.9500e+00],\n",
      "        [-9.0071e+00, -1.2432e+01, -7.4948e+00, -9.6338e+00, -1.1352e+01,\n",
      "          6.6431e+00,  3.8445e-01,  1.2082e+00,  7.4967e+00, -2.3673e+01],\n",
      "        [ 4.7763e+00, -1.6032e+01, -1.8488e+01, -5.7930e+00, -7.0654e+00,\n",
      "          3.3238e-01, -4.6059e+00, -1.0317e-02, -3.4069e-02,  7.1589e+00],\n",
      "        [ 2.0011e-01, -2.3961e-01, -9.9064e+00, -9.3735e+00, -6.3729e+00,\n",
      "          9.1506e+00,  8.8328e+00, -6.3628e+00, -1.6322e+00, -1.0305e+01],\n",
      "        [-8.8800e-01, -7.5980e+00, -4.2590e+00, -1.3931e+01, -7.9089e+00,\n",
      "          4.3326e+00,  1.1255e+00,  3.2337e+00,  1.6974e+00, -1.2048e+01],\n",
      "        [ 1.4652e+00, -1.6528e+01, -2.3231e+01, -1.3472e-01, -1.6297e+01,\n",
      "          2.4277e+00, -1.1741e+00,  1.5921e+01, -8.8745e+00, -2.1497e+01],\n",
      "        [ 4.8175e+00, -2.3031e+01, -3.3012e+00, -1.7470e+01, -1.1692e+01,\n",
      "          4.5116e+00, -4.3091e+00,  2.5610e+00, -5.0905e+00, -1.3346e+01],\n",
      "        [-2.2723e+00, -1.3729e+01, -1.0757e+01, -7.0750e+00, -5.5564e+00,\n",
      "          9.2138e+00,  4.0291e+00, -9.7623e-01,  4.0314e+00,  9.1500e-01],\n",
      "        [-1.2802e+01, -1.3700e+01, -9.0484e+00, -1.1537e+01, -1.1189e+01,\n",
      "          1.3458e+01, -1.9756e+00,  1.0376e+01,  3.9253e+00, -1.4301e+01],\n",
      "        [-7.4592e+00, -8.5613e+00, -4.1810e+00, -1.6547e+01, -9.5083e+00,\n",
      "          1.3274e+01,  5.6763e+00,  4.0424e+00,  2.4770e+00, -8.6535e+00],\n",
      "        [-5.4365e+00, -5.9995e+00, -3.4239e+00, -4.6673e+00, -1.0387e+01,\n",
      "          9.2854e+00,  1.1220e+00,  5.9257e+00, -1.0074e+01, -1.3155e+01],\n",
      "        [ 2.4036e-01, -7.8844e+00, -5.7855e+00, -7.6575e+00, -1.0864e+01,\n",
      "         -6.2057e-01, -6.2960e+00,  3.1477e+00, -2.4050e+00, -9.5537e+00],\n",
      "        [-5.9643e+00, -6.5279e+00, -1.5872e+01, -1.3596e+01, -1.3305e+01,\n",
      "          3.0568e+00, -2.0412e+00,  4.3819e+00,  1.4784e+01, -1.0760e+01],\n",
      "        [ 4.6069e+00, -1.4230e+01, -1.1862e+01, -2.0120e+01, -7.0299e+00,\n",
      "          4.4063e+00, -7.5339e+00, -3.9984e+00, -5.1202e+00, -2.5079e+00],\n",
      "        [-1.9597e+00, -2.0138e+01, -1.9437e+01, -1.3920e+01, -9.5606e+00,\n",
      "          1.5532e+01,  5.9102e+00,  2.3562e+00, -1.4688e+00, -1.3562e+01],\n",
      "        [-6.4435e+00, -5.0249e+00, -1.5285e+01,  1.2472e+00, -1.7833e+01,\n",
      "          6.9386e+00, -1.1185e+01,  2.7714e+00, -8.0806e+00, -2.1274e+01],\n",
      "        [-7.5033e+00, -6.9263e+00, -8.2433e+00, -2.3525e+00, -1.1352e+01,\n",
      "          1.4828e+01, -2.9932e+00, -2.8973e-01, -8.6582e+00, -1.3444e+01]])\n"
     ]
    },
    {
     "data": {
      "text/plain": [
       "torch.Size([64, 10])"
      ]
     },
     "execution_count": 19,
     "metadata": {},
     "output_type": "execute_result"
    }
   ],
   "source": [
    "print(out)\n",
    "out.shape"
   ]
  },
  {
   "cell_type": "code",
   "execution_count": null,
   "metadata": {},
   "outputs": [],
   "source": []
  },
  {
   "cell_type": "code",
   "execution_count": 20,
   "metadata": {},
   "outputs": [
    {
     "name": "stdout",
     "output_type": "stream",
     "text": [
      "torch.Size([64, 10])\n",
      "tensor([1.0000, 1.0000, 1.0000, 1.0000, 1.0000, 1.0000, 1.0000, 1.0000, 1.0000,\n",
      "        1.0000, 1.0000, 1.0000, 1.0000, 1.0000, 1.0000, 1.0000, 1.0000, 1.0000,\n",
      "        1.0000, 1.0000, 1.0000, 1.0000, 1.0000, 1.0000, 1.0000, 1.0000, 1.0000,\n",
      "        1.0000, 1.0000, 1.0000, 1.0000, 1.0000, 1.0000, 1.0000, 1.0000, 1.0000,\n",
      "        1.0000, 1.0000, 1.0000, 1.0000, 1.0000, 1.0000, 1.0000, 1.0000, 1.0000,\n",
      "        1.0000, 1.0000, 1.0000, 1.0000, 1.0000, 1.0000, 1.0000, 1.0000, 1.0000,\n",
      "        1.0000, 1.0000, 1.0000, 1.0000, 1.0000, 1.0000, 1.0000, 1.0000, 1.0000,\n",
      "        1.0000])\n"
     ]
    }
   ],
   "source": [
    "def softmax(x):\n",
    "    return torch.exp(x)/torch.sum(torch.exp(x),dim=1).view(-1,1)\n",
    "\n",
    "probabilities = softmax(out)\n",
    "\n",
    "print(probabilities.shape)\n",
    "\n",
    "print(probabilities.sum(dim=1))\n"
   ]
  },
  {
   "cell_type": "markdown",
   "metadata": {},
   "source": [
    "# Building Network with Pytorch"
   ]
  },
  {
   "cell_type": "code",
   "execution_count": 21,
   "metadata": {},
   "outputs": [],
   "source": [
    "from torch import nn"
   ]
  },
  {
   "cell_type": "code",
   "execution_count": 22,
   "metadata": {},
   "outputs": [],
   "source": [
    "class Network(nn.Module):\n",
    "    def __init__(self):\n",
    "        super().__init__()\n",
    "        \n",
    "        self.hidden = nn.Linear(784,256)\n",
    "        self.output = nn.Linear(256,10)\n",
    "        \n",
    "        self.sigmoid = nn.Sigmoid()\n",
    "        self.softmax = nn.Softmax(dim=1)\n",
    "        \n",
    "    def forward(self,x):\n",
    "        x = self.hidden(x)\n",
    "        x = self.sigmoid(x)\n",
    "        x = self.output(x)\n",
    "        x = self.softmax(x)\n",
    "        \n",
    "        return x"
   ]
  },
  {
   "cell_type": "code",
   "execution_count": 23,
   "metadata": {},
   "outputs": [
    {
     "data": {
      "text/plain": [
       "Network(\n",
       "  (hidden): Linear(in_features=784, out_features=256, bias=True)\n",
       "  (output): Linear(in_features=256, out_features=10, bias=True)\n",
       "  (sigmoid): Sigmoid()\n",
       "  (softmax): Softmax(dim=1)\n",
       ")"
      ]
     },
     "execution_count": 23,
     "metadata": {},
     "output_type": "execute_result"
    }
   ],
   "source": [
    "model = Network()\n",
    "model"
   ]
  },
  {
   "cell_type": "markdown",
   "metadata": {},
   "source": [
    "# Also can build with the built-in functional F"
   ]
  },
  {
   "cell_type": "code",
   "execution_count": 24,
   "metadata": {},
   "outputs": [],
   "source": [
    "import torch.nn.functional as F\n",
    "\n",
    "class Network(nn.Module):\n",
    "    def __init__(self):\n",
    "        super().__init__()\n",
    "        self.hidden = nn.Linear(784,256)\n",
    "        self.output = nn.Linear(256,10)\n",
    "        \n",
    "    def forward(self, x):\n",
    "        x = F.sigmoid(self.hidden(x))\n",
    "        x = F.softmax(self.output(x),dim=1)\n",
    "        \n",
    "        return x"
   ]
  },
  {
   "cell_type": "markdown",
   "metadata": {},
   "source": [
    "# Build for (input layer =784, hidn lay= 128, hidn lay= 64, output lay=10)"
   ]
  },
  {
   "cell_type": "code",
   "execution_count": 25,
   "metadata": {},
   "outputs": [],
   "source": [
    "class MultiNetwork(nn.Module):\n",
    "    def __init__(self):\n",
    "        super().__init__()\n",
    "        self.hidden = nn.Linear(784,128)\n",
    "        self.hidden2 = nn.Linear(128,64)\n",
    "        self.output = nn.Linear(64,10)\n",
    "        \n",
    "    def forward(self, x):\n",
    "        x = F.relu(self.hidden(x))\n",
    "        x = F.relu(self.hidden2(x))\n",
    "        x = F.softmax(self.output(x))\n",
    "       \n",
    "        return x    "
   ]
  },
  {
   "cell_type": "code",
   "execution_count": 26,
   "metadata": {},
   "outputs": [
    {
     "data": {
      "text/plain": [
       "MultiNetwork(\n",
       "  (hidden): Linear(in_features=784, out_features=128, bias=True)\n",
       "  (hidden2): Linear(in_features=128, out_features=64, bias=True)\n",
       "  (output): Linear(in_features=64, out_features=10, bias=True)\n",
       ")"
      ]
     },
     "execution_count": 26,
     "metadata": {},
     "output_type": "execute_result"
    }
   ],
   "source": [
    "model2 = MultiNetwork()\n",
    "model2"
   ]
  },
  {
   "cell_type": "markdown",
   "metadata": {},
   "source": [
    "# Can modify automatic weight and bias"
   ]
  },
  {
   "cell_type": "code",
   "execution_count": 27,
   "metadata": {},
   "outputs": [
    {
     "name": "stdout",
     "output_type": "stream",
     "text": [
      "Parameter containing:\n",
      "tensor([[ 0.0303,  0.0047, -0.0060,  ...,  0.0235,  0.0012, -0.0335],\n",
      "        [ 0.0141,  0.0220,  0.0141,  ..., -0.0081,  0.0335, -0.0211],\n",
      "        [-0.0301, -0.0065,  0.0150,  ...,  0.0091, -0.0224, -0.0060],\n",
      "        ...,\n",
      "        [ 0.0126,  0.0191,  0.0257,  ..., -0.0219,  0.0255, -0.0272],\n",
      "        [ 0.0334, -0.0019, -0.0155,  ..., -0.0205,  0.0314, -0.0051],\n",
      "        [-0.0152,  0.0289,  0.0296,  ..., -0.0032,  0.0309,  0.0017]],\n",
      "       requires_grad=True)\n"
     ]
    }
   ],
   "source": [
    "print(model2.hidden.weight)"
   ]
  },
  {
   "cell_type": "code",
   "execution_count": 28,
   "metadata": {},
   "outputs": [
    {
     "data": {
      "text/plain": [
       "tensor([0., 0., 0., 0., 0., 0., 0., 0., 0., 0., 0., 0., 0., 0., 0., 0., 0., 0., 0., 0., 0., 0., 0., 0.,\n",
       "        0., 0., 0., 0., 0., 0., 0., 0., 0., 0., 0., 0., 0., 0., 0., 0., 0., 0., 0., 0., 0., 0., 0., 0.,\n",
       "        0., 0., 0., 0., 0., 0., 0., 0., 0., 0., 0., 0., 0., 0., 0., 0., 0., 0., 0., 0., 0., 0., 0., 0.,\n",
       "        0., 0., 0., 0., 0., 0., 0., 0., 0., 0., 0., 0., 0., 0., 0., 0., 0., 0., 0., 0., 0., 0., 0., 0.,\n",
       "        0., 0., 0., 0., 0., 0., 0., 0., 0., 0., 0., 0., 0., 0., 0., 0., 0., 0., 0., 0., 0., 0., 0., 0.,\n",
       "        0., 0., 0., 0., 0., 0., 0., 0.])"
      ]
     },
     "execution_count": 28,
     "metadata": {},
     "output_type": "execute_result"
    }
   ],
   "source": [
    "model2.hidden.bias.data.fill_(0)"
   ]
  },
  {
   "cell_type": "code",
   "execution_count": 29,
   "metadata": {},
   "outputs": [
    {
     "data": {
      "text/plain": [
       "tensor([[ 0.0044,  0.0075, -0.0091,  ..., -0.0029, -0.0191, -0.0109],\n",
       "        [-0.0039,  0.0115,  0.0018,  ...,  0.0032, -0.0116,  0.0238],\n",
       "        [ 0.0001, -0.0048, -0.0022,  ..., -0.0073,  0.0073, -0.0150],\n",
       "        ...,\n",
       "        [ 0.0003, -0.0006,  0.0089,  ..., -0.0065,  0.0105, -0.0093],\n",
       "        [ 0.0069, -0.0074,  0.0049,  ..., -0.0027,  0.0132,  0.0289],\n",
       "        [ 0.0017,  0.0128, -0.0048,  ..., -0.0103, -0.0042, -0.0028]])"
      ]
     },
     "execution_count": 29,
     "metadata": {},
     "output_type": "execute_result"
    }
   ],
   "source": [
    "model2.hidden.weight.data.normal_(std=0.01)"
   ]
  },
  {
   "cell_type": "code",
   "execution_count": 30,
   "metadata": {},
   "outputs": [],
   "source": [
    "import helper"
   ]
  },
  {
   "cell_type": "markdown",
   "metadata": {},
   "source": [
    "# Forward pass"
   ]
  },
  {
   "cell_type": "code",
   "execution_count": 31,
   "metadata": {},
   "outputs": [
    {
     "ename": "AttributeError",
     "evalue": "module 'helper' has no attribute 'view_classify'",
     "output_type": "error",
     "traceback": [
      "\u001b[1;31m---------------------------------------------------------------------------\u001b[0m",
      "\u001b[1;31mAttributeError\u001b[0m                            Traceback (most recent call last)",
      "\u001b[1;32m<ipython-input-31-abdc6060fe36>\u001b[0m in \u001b[0;36m<module>\u001b[1;34m\u001b[0m\n\u001b[0;32m      8\u001b[0m \u001b[1;33m\u001b[0m\u001b[0m\n\u001b[0;32m      9\u001b[0m \u001b[0mimg\u001b[0m \u001b[1;33m=\u001b[0m \u001b[0mimages\u001b[0m\u001b[1;33m[\u001b[0m\u001b[0mimg_idx\u001b[0m\u001b[1;33m]\u001b[0m\u001b[1;33m\u001b[0m\u001b[1;33m\u001b[0m\u001b[0m\n\u001b[1;32m---> 10\u001b[1;33m \u001b[0mhelper\u001b[0m\u001b[1;33m.\u001b[0m\u001b[0mview_classify\u001b[0m\u001b[1;33m(\u001b[0m\u001b[0mimg\u001b[0m\u001b[1;33m.\u001b[0m\u001b[0mview\u001b[0m\u001b[1;33m(\u001b[0m\u001b[1;36m1\u001b[0m\u001b[1;33m,\u001b[0m\u001b[1;36m28\u001b[0m\u001b[1;33m,\u001b[0m\u001b[1;36m28\u001b[0m\u001b[1;33m)\u001b[0m\u001b[1;33m,\u001b[0m \u001b[0mps\u001b[0m\u001b[1;33m)\u001b[0m\u001b[1;33m\u001b[0m\u001b[1;33m\u001b[0m\u001b[0m\n\u001b[0m",
      "\u001b[1;31mAttributeError\u001b[0m: module 'helper' has no attribute 'view_classify'"
     ]
    }
   ],
   "source": [
    "dataiter = iter(trainloader)\n",
    "images, labels = dataiter.next()\n",
    "\n",
    "images.resize_(64, 1, 784)\n",
    "\n",
    "img_idx=0\n",
    "ps = model.forward(images[img_idx,:])\n",
    "\n",
    "img = images[img_idx]\n",
    "helper.view_classify(img.view(1,28,28), ps)\n"
   ]
  },
  {
   "cell_type": "markdown",
   "metadata": {},
   "source": [
    "# Building Network using nn sequential"
   ]
  },
  {
   "cell_type": "code",
   "execution_count": 35,
   "metadata": {},
   "outputs": [
    {
     "name": "stdout",
     "output_type": "stream",
     "text": [
      "Sequential(\n",
      "  (0): Linear(in_features=784, out_features=128, bias=True)\n",
      "  (1): ReLU()\n",
      "  (2): Linear(in_features=128, out_features=64, bias=True)\n",
      "  (3): ReLU()\n",
      "  (4): Linear(in_features=64, out_features=10, bias=True)\n",
      "  (5): Softmax(dim=1)\n",
      ")\n"
     ]
    }
   ],
   "source": [
    "#pytorch provides a convenient way to build networks with nn sequential\n",
    "\n",
    "input_size = 784\n",
    "hidden_sizes = [128,64]\n",
    "output_size =10\n",
    "#build a feed forward network\n",
    "model = nn.Sequential(nn.Linear(input_size,hidden_sizes[0]),\n",
    "                      nn.ReLU(),\n",
    "                      nn.Linear(hidden_sizes[0],hidden_sizes[1]),\n",
    "                      nn.ReLU(),\n",
    "                      nn.Linear(hidden_sizes[1],output_size),\n",
    "                      nn.Softmax(dim=1))\n",
    "print(model)"
   ]
  },
  {
   "cell_type": "code",
   "execution_count": 36,
   "metadata": {},
   "outputs": [],
   "source": [
    "#forward pass throgh the nn.sequential\n",
    "images, labels = next(iter(trainloader))\n",
    "images.resize_(images.shape[0],1,784)\n",
    "ps = model.forward(images[0,:])\n"
   ]
  },
  {
   "cell_type": "code",
   "execution_count": 34,
   "metadata": {},
   "outputs": [
    {
     "ename": "ImportError",
     "evalue": "cannot import name 'OrderDict' from 'collections' (C:\\Users\\tanvi\\anaconda3\\lib\\collections\\__init__.py)",
     "output_type": "error",
     "traceback": [
      "\u001b[1;31m---------------------------------------------------------------------------\u001b[0m",
      "\u001b[1;31mImportError\u001b[0m                               Traceback (most recent call last)",
      "\u001b[1;32m<ipython-input-34-a33634ec9cad>\u001b[0m in \u001b[0;36m<module>\u001b[1;34m\u001b[0m\n\u001b[0;32m      1\u001b[0m \u001b[1;31m#can also pass in an OrderedDict to name the individual layers and operations, instead of incremental integer\u001b[0m\u001b[1;33m\u001b[0m\u001b[1;33m\u001b[0m\u001b[1;33m\u001b[0m\u001b[0m\n\u001b[1;32m----> 2\u001b[1;33m \u001b[1;32mfrom\u001b[0m \u001b[0mcollections\u001b[0m \u001b[1;32mimport\u001b[0m \u001b[0mOrderDict\u001b[0m\u001b[1;33m\u001b[0m\u001b[1;33m\u001b[0m\u001b[0m\n\u001b[0m\u001b[0;32m      3\u001b[0m model = nn.Sequential(OrderDict([\n\u001b[0;32m      4\u001b[0m     \u001b[1;33m(\u001b[0m\u001b[1;34m'fc1'\u001b[0m\u001b[1;33m,\u001b[0m \u001b[0mnn\u001b[0m\u001b[1;33m.\u001b[0m\u001b[0mLinear\u001b[0m\u001b[1;33m(\u001b[0m\u001b[0minput_size\u001b[0m\u001b[1;33m,\u001b[0m \u001b[0mhidden_sizes\u001b[0m\u001b[1;33m[\u001b[0m\u001b[1;36m0\u001b[0m\u001b[1;33m]\u001b[0m\u001b[1;33m)\u001b[0m\u001b[1;33m)\u001b[0m\u001b[1;33m,\u001b[0m\u001b[1;33m\u001b[0m\u001b[1;33m\u001b[0m\u001b[0m\n\u001b[0;32m      5\u001b[0m     \u001b[1;33m(\u001b[0m\u001b[1;34m'relu1'\u001b[0m\u001b[1;33m,\u001b[0m \u001b[0mnn\u001b[0m\u001b[1;33m.\u001b[0m\u001b[0mReLU\u001b[0m\u001b[1;33m(\u001b[0m\u001b[1;33m)\u001b[0m\u001b[1;33m)\u001b[0m\u001b[1;33m,\u001b[0m\u001b[1;33m\u001b[0m\u001b[1;33m\u001b[0m\u001b[0m\n",
      "\u001b[1;31mImportError\u001b[0m: cannot import name 'OrderDict' from 'collections' (C:\\Users\\tanvi\\anaconda3\\lib\\collections\\__init__.py)"
     ]
    }
   ],
   "source": [
    "#can also pass in an OrderedDict to name the individual layers and operations, instead of incremental integer\n",
    "from collections import OrderDict\n",
    "model = nn.Sequential(OrderDict([\n",
    "    ('fc1', nn.Linear(input_size, hidden_sizes[0])),\n",
    "    ('relu1', nn.ReLU()),\n",
    "    ('fc2',nn.Linear(hidden_sizes[0],hidden_sizes[1])),\n",
    "    ('relu2',nn.ReLU()),\n",
    "    ('output',nn.Linear(hidden_sizes[1],output_sizes)),\n",
    "    ('softmax',nn.Softmax(dim=1))]))\n",
    "model"
   ]
  },
  {
   "cell_type": "markdown",
   "metadata": {},
   "source": [
    "# Losses in Pytorch"
   ]
  },
  {
   "cell_type": "code",
   "execution_count": 37,
   "metadata": {},
   "outputs": [
    {
     "name": "stdout",
     "output_type": "stream",
     "text": [
      "tensor(2.3049, grad_fn=<NllLossBackward>)\n"
     ]
    }
   ],
   "source": [
    "#load the previous data which we import above in this notebook\n",
    "images, labels = next(iter(trainloader))\n",
    "images = images.view(images.shape[0], -1)\n",
    "#build the model\n",
    "model = nn.Sequential(nn.Linear(784,128),\n",
    "                     nn.ReLU(),\n",
    "                     nn.Linear(128,64),\n",
    "                     nn.ReLU(),\n",
    "                     nn.Linear(64,10))\n",
    "\n",
    "#define loss\n",
    "criterion = nn.CrossEntropyLoss()\n",
    "\n",
    "#forward pass\n",
    "logits = model(images)\n",
    "\n",
    "loss = criterion(logits,labels)\n",
    "\n",
    "print(loss)\n",
    "\n"
   ]
  },
  {
   "cell_type": "code",
   "execution_count": 38,
   "metadata": {},
   "outputs": [
    {
     "name": "stdout",
     "output_type": "stream",
     "text": [
      "tensor(2.3067, grad_fn=<NllLossBackward>)\n"
     ]
    }
   ],
   "source": [
    "#build a model with logsoftmax which will help to see the probabilities\n",
    "\n",
    "model = nn.Sequential(nn.Linear(784,128),\n",
    "                      nn.ReLU(),\n",
    "                      nn.Linear(128,64),\n",
    "                      nn.ReLU(),\n",
    "                      nn.Linear(64,10),\n",
    "                      nn.LogSoftmax(dim=1))\n",
    "\n",
    "criterion = nn.NLLLoss()\n",
    "\n",
    "images, labels = next(iter(trainloader))\n",
    "images = images.view(images.shape[0],-1)\n",
    "\n",
    "logps = model(images)\n",
    "\n",
    "loss = criterion(logps,labels)\n",
    "\n",
    "print(loss)"
   ]
  },
  {
   "cell_type": "markdown",
   "metadata": {},
   "source": [
    "# Autograd"
   ]
  },
  {
   "cell_type": "code",
   "execution_count": 39,
   "metadata": {},
   "outputs": [
    {
     "name": "stdout",
     "output_type": "stream",
     "text": [
      "tensor([[ 0.2293,  2.4529],\n",
      "        [ 0.0933, -0.4387]], requires_grad=True)\n"
     ]
    }
   ],
   "source": [
    "#demo\n",
    "x = torch.randn(2,2,requires_grad=True)\n",
    "print(x)"
   ]
  },
  {
   "cell_type": "code",
   "execution_count": 40,
   "metadata": {},
   "outputs": [
    {
     "name": "stdout",
     "output_type": "stream",
     "text": [
      "tensor([[0.0526, 6.0166],\n",
      "        [0.0087, 0.1924]], grad_fn=<PowBackward0>)\n"
     ]
    }
   ],
   "source": [
    "y=x**2\n",
    "print(y)"
   ]
  },
  {
   "cell_type": "code",
   "execution_count": 41,
   "metadata": {},
   "outputs": [
    {
     "name": "stdout",
     "output_type": "stream",
     "text": [
      "<PowBackward0 object at 0x00000181D9B44A00>\n"
     ]
    }
   ],
   "source": [
    "print(y.grad_fn)"
   ]
  },
  {
   "cell_type": "code",
   "execution_count": 42,
   "metadata": {},
   "outputs": [],
   "source": [
    "z = y.mean()"
   ]
  },
  {
   "cell_type": "code",
   "execution_count": 43,
   "metadata": {},
   "outputs": [
    {
     "name": "stdout",
     "output_type": "stream",
     "text": [
      "tensor(1.5676, grad_fn=<MeanBackward0>)\n"
     ]
    }
   ],
   "source": [
    "print(z)"
   ]
  },
  {
   "cell_type": "code",
   "execution_count": 44,
   "metadata": {},
   "outputs": [
    {
     "name": "stdout",
     "output_type": "stream",
     "text": [
      "None\n"
     ]
    }
   ],
   "source": [
    "print(x.grad)\n",
    "#it will show nothing bcz at first z need to be backwarded"
   ]
  },
  {
   "cell_type": "code",
   "execution_count": 45,
   "metadata": {},
   "outputs": [
    {
     "name": "stdout",
     "output_type": "stream",
     "text": [
      "tensor([[ 0.1147,  1.2264],\n",
      "        [ 0.0467, -0.2193]])\n",
      "tensor([[ 0.1147,  1.2264],\n",
      "        [ 0.0467, -0.2193]], grad_fn=<DivBackward0>)\n"
     ]
    }
   ],
   "source": [
    "z.backward()\n",
    "print(x.grad)\n",
    "print(x/2)"
   ]
  },
  {
   "cell_type": "markdown",
   "metadata": {},
   "source": [
    "# Loss and Autograd Together"
   ]
  },
  {
   "cell_type": "code",
   "execution_count": 46,
   "metadata": {},
   "outputs": [],
   "source": [
    "#build the model\n",
    "model = nn.Sequential(nn.Linear(784,128),\n",
    "                     nn.ReLU(),\n",
    "                     nn.Linear(128,64),\n",
    "                     nn.ReLU(),\n",
    "                     nn.Linear(64,10),\n",
    "                     nn.LogSoftmax(dim=1))\n",
    "criterion = nn.NLLLoss()\n",
    "images, labels = next(iter(trainloader))\n",
    "images = images.view(images.shape[0], -1)\n",
    "\n",
    "logps = model(images)\n",
    "loss = criterion(logps, labels)"
   ]
  },
  {
   "cell_type": "code",
   "execution_count": 47,
   "metadata": {},
   "outputs": [
    {
     "name": "stdout",
     "output_type": "stream",
     "text": [
      "tensor(2.3022, grad_fn=<NllLossBackward>)\n"
     ]
    }
   ],
   "source": [
    "print(loss)"
   ]
  },
  {
   "cell_type": "code",
   "execution_count": 48,
   "metadata": {},
   "outputs": [
    {
     "name": "stdout",
     "output_type": "stream",
     "text": [
      "before backward pass:  None\n",
      "After backward pass:  tensor([[-1.9892e-03, -1.9892e-03, -1.9892e-03,  ..., -1.9892e-03,\n",
      "         -1.9892e-03, -1.9892e-03],\n",
      "        [-6.8078e-04, -6.8078e-04, -6.8078e-04,  ..., -6.8078e-04,\n",
      "         -6.8078e-04, -6.8078e-04],\n",
      "        [-6.6374e-04, -6.6374e-04, -6.6374e-04,  ..., -6.6374e-04,\n",
      "         -6.6374e-04, -6.6374e-04],\n",
      "        ...,\n",
      "        [-4.6435e-05, -4.6435e-05, -4.6435e-05,  ..., -4.6435e-05,\n",
      "         -4.6435e-05, -4.6435e-05],\n",
      "        [ 1.3293e-03,  1.3293e-03,  1.3293e-03,  ...,  1.3293e-03,\n",
      "          1.3293e-03,  1.3293e-03],\n",
      "        [ 1.9104e-04,  1.9104e-04,  1.9104e-04,  ...,  1.9104e-04,\n",
      "          1.9104e-04,  1.9104e-04]])\n"
     ]
    }
   ],
   "source": [
    "print(\"before backward pass: \",model[0].weight.grad)\n",
    "\n",
    "loss.backward()\n",
    "\n",
    "print(\"After backward pass: \",model[0].weight.grad)"
   ]
  },
  {
   "cell_type": "markdown",
   "metadata": {},
   "source": [
    "# Training the model"
   ]
  },
  {
   "cell_type": "code",
   "execution_count": 50,
   "metadata": {},
   "outputs": [],
   "source": [
    "from torch import optim\n",
    "optimizer = optim.SGD(model.parameters(), lr=0.01)"
   ]
  },
  {
   "cell_type": "code",
   "execution_count": 51,
   "metadata": {},
   "outputs": [
    {
     "name": "stdout",
     "output_type": "stream",
     "text": [
      "initial weights Parameter containing:\n",
      "tensor([[-0.0116,  0.0146, -0.0287,  ..., -0.0137, -0.0170, -0.0054],\n",
      "        [ 0.0355,  0.0289, -0.0281,  ...,  0.0287,  0.0332,  0.0236],\n",
      "        [ 0.0335, -0.0271,  0.0340,  ..., -0.0301,  0.0302,  0.0313],\n",
      "        ...,\n",
      "        [ 0.0200, -0.0134,  0.0117,  ...,  0.0066, -0.0149, -0.0120],\n",
      "        [-0.0319,  0.0342,  0.0043,  ..., -0.0166,  0.0029, -0.0165],\n",
      "        [ 0.0201,  0.0354, -0.0146,  ...,  0.0106,  0.0175,  0.0113]],\n",
      "       requires_grad=True)\n",
      "Gradient:  tensor([[-3.4569e-04, -3.4569e-04, -3.4569e-04,  ..., -3.4569e-04,\n",
      "         -3.4569e-04, -3.4569e-04],\n",
      "        [ 2.1020e-04,  2.1020e-04,  2.1020e-04,  ...,  2.1020e-04,\n",
      "          2.1020e-04,  2.1020e-04],\n",
      "        [-7.5800e-03, -7.5800e-03, -7.5800e-03,  ..., -7.5800e-03,\n",
      "         -7.5800e-03, -7.5800e-03],\n",
      "        ...,\n",
      "        [-1.2234e-03, -1.2234e-03, -1.2234e-03,  ..., -1.2234e-03,\n",
      "         -1.2234e-03, -1.2234e-03],\n",
      "        [-1.7483e-05, -1.7483e-05, -1.7483e-05,  ..., -1.7483e-05,\n",
      "         -1.7483e-05, -1.7483e-05],\n",
      "        [ 4.6511e-04,  4.6511e-04,  4.6511e-04,  ...,  4.6511e-04,\n",
      "          4.6511e-04,  4.6511e-04]])\n"
     ]
    }
   ],
   "source": [
    "print(\"initial weights\",model[0].weight)\n",
    "\n",
    "images, labels = next(iter(trainloader))\n",
    "images.resize_(64,784)\n",
    "\n",
    "optimizer.zero_grad()  #for clear the previous gradients bcz gradients are accumulated\n",
    "\n",
    "output = model(images)\n",
    "loss = criterion(output,labels)\n",
    "loss.backward()\n",
    "print(\"Gradient: \",model[0].weight.grad)  "
   ]
  },
  {
   "cell_type": "code",
   "execution_count": 54,
   "metadata": {},
   "outputs": [
    {
     "name": "stdout",
     "output_type": "stream",
     "text": [
      "new weights:  Parameter containing:\n",
      "tensor([[-0.0116,  0.0146, -0.0286,  ..., -0.0137, -0.0170, -0.0054],\n",
      "        [ 0.0355,  0.0289, -0.0281,  ...,  0.0287,  0.0332,  0.0236],\n",
      "        [ 0.0336, -0.0270,  0.0341,  ..., -0.0300,  0.0303,  0.0315],\n",
      "        ...,\n",
      "        [ 0.0201, -0.0134,  0.0117,  ...,  0.0066, -0.0149, -0.0120],\n",
      "        [-0.0319,  0.0342,  0.0043,  ..., -0.0166,  0.0029, -0.0165],\n",
      "        [ 0.0201,  0.0354, -0.0146,  ...,  0.0106,  0.0175,  0.0113]],\n",
      "       requires_grad=True)\n"
     ]
    }
   ],
   "source": [
    "optimizer.step()\n",
    "print(\"new weights: \",model[0].weight)"
   ]
  },
  {
   "cell_type": "markdown",
   "metadata": {},
   "source": [
    "# Training for real"
   ]
  },
  {
   "cell_type": "code",
   "execution_count": 58,
   "metadata": {},
   "outputs": [
    {
     "name": "stdout",
     "output_type": "stream",
     "text": [
      "training loss: 2.232021545550462\n",
      "training loss: 1.9868649396815026\n",
      "training loss: 1.5400091581253101\n",
      "training loss: 1.0887737539785503\n",
      "training loss: 0.8148590095007597\n"
     ]
    }
   ],
   "source": [
    "model = nn.Sequential(nn.Linear(784,128),\n",
    "                nn.ReLU(),\n",
    "                nn.Linear(128,64),\n",
    "                nn.ReLU(),\n",
    "                nn.Linear(64,10),\n",
    "                nn.LogSoftmax(dim=1))\n",
    "\n",
    "criterion = nn.NLLLoss()\n",
    "optimizer = optim.SGD(model.parameters(),lr=0.001)\n",
    "\n",
    "epoches=5\n",
    "\n",
    "for i in range(epoches):\n",
    "    running_loss = 0\n",
    "    for images, labels in trainloader:\n",
    "        \n",
    "        images = images.view(images.shape[0], -1)\n",
    "        optimizer.zero_grad()\n",
    "        \n",
    "        output = model.forward(images)\n",
    "        loss = criterion(output,labels)\n",
    "        loss.backward()\n",
    "        optimizer.step()\n",
    "        \n",
    "        running_loss +=loss.item()\n",
    "        \n",
    "    else:\n",
    "        print(f\"training loss: {running_loss/len(trainloader)}\")\n"
   ]
  },
  {
   "cell_type": "code",
   "execution_count": 63,
   "metadata": {},
   "outputs": [],
   "source": [
    "#to solve the helper package problem , i copy and past the code of view_classify\n",
    "def view_classify(img, ps, version=\"MNIST\"):\n",
    "    ''' Function for viewing an image and it's predicted classes.\n",
    "    '''\n",
    "    ps = ps.data.numpy().squeeze()\n",
    "\n",
    "    fig, (ax1, ax2) = plt.subplots(figsize=(6,9), ncols=2)\n",
    "    ax1.imshow(img.resize_(1, 28, 28).numpy().squeeze())\n",
    "    ax1.axis('off')\n",
    "    ax2.barh(np.arange(10), ps)\n",
    "    ax2.set_aspect(0.1)\n",
    "    ax2.set_yticks(np.arange(10))\n",
    "    if version == \"MNIST\":\n",
    "        ax2.set_yticklabels(np.arange(10))\n",
    "    elif version == \"Fashion\":\n",
    "        ax2.set_yticklabels(['T-shirt/top',\n",
    "                            'Trouser',\n",
    "                            'Pullover',\n",
    "                            'Dress',\n",
    "                            'Coat',\n",
    "                            'Sandal',\n",
    "                            'Shirt',\n",
    "                            'Sneaker',\n",
    "                            'Bag',\n",
    "                            'Ankle Boot'], size='small');\n",
    "    ax2.set_title('Class Probability')\n",
    "    ax2.set_xlim(0, 1.1)"
   ]
  },
  {
   "cell_type": "code",
   "execution_count": 62,
   "metadata": {},
   "outputs": [
    {
     "data": {
      "image/png": "[encoded data removed]",
      "text/plain": [
       "<Figure size 432x648 with 2 Axes>"
      ]
     },
     "metadata": {
      "image/png": {
       "height": 195,
       "width": 349
      },
      "needs_background": "light"
     },
     "output_type": "display_data"
    }
   ],
   "source": [
    "# for show the probability\n",
    "import helper\n",
    "\n",
    "images, labels = next(iter(trainloader))\n",
    "\n",
    "img = images[0].view(1,784)\n",
    "\n",
    "#turn off the gradients to speed up\n",
    "with torch.no_grad():\n",
    "    logps = model(img)\n",
    "    \n",
    "ps = torch.exp(logps)\n",
    "view_classify(img.view(1,28,28), ps)"
   ]
  },
  {
   "cell_type": "code",
   "execution_count": null,
   "metadata": {},
   "outputs": [],
   "source": []
  }
 ],
 "metadata": {
  "kernelspec": {
   "display_name": "Python 3",
   "language": "python",
   "name": "python3"
  },
  "language_info": {
   "codemirror_mode": {
    "name": "ipython",
    "version": 3
   },
   "file_extension": ".py",
   "mimetype": "text/x-python",
   "name": "python",
   "nbconvert_exporter": "python",
   "pygments_lexer": "ipython3",
   "version": "3.8.3"
  }
 },
 "nbformat": 4,
 "nbformat_minor": 4
}
